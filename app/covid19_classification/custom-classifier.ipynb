{
  "nbformat": 4,
  "nbformat_minor": 0,
  "metadata": {
    "colab": {
      "name": "Covid Detection.ipynb",
      "provenance": [],
      "collapsed_sections": [],
      "authorship_tag": "ABX9TyOv/mlCfrw8e+K/7SmNjm6G",
      "include_colab_link": true
    },
    "kernelspec": {
      "name": "python3",
      "display_name": "Python 3"
    },
    "language_info": {
      "name": "python"
    }
  },
  "cells": [
    {
      "cell_type": "markdown",
      "metadata": {
        "id": "view-in-github",
        "colab_type": "text"
      },
      "source": [
        "<a href=\"https://colab.research.google.com/github/KarthikGogisetty07/Covid19_CNN/blob/main/Covid_Detection.ipynb\" target=\"_parent\"><img src=\"https://colab.research.google.com/assets/colab-badge.svg\" alt=\"Open In Colab\"/></a>"
      ]
    },
    {
      "cell_type": "code",
      "metadata": {
        "id": "-Hi5IRdIbu6e"
      },
      "source": [
        "import numpy as np\n",
        "import matplotlib.pyplot as plt \n",
        "\n",
        "import keras\n",
        "from keras.layers import Dense, Conv2D, MaxPool2D, Dropout, Flatten \n",
        "from keras.models import Sequential\n",
        "from keras.preprocessing import image"
      ],
      "execution_count": null,
      "outputs": []
    },
    {
      "cell_type": "code",
      "metadata": {
        "id": "wXY-MYRycisU"
      },
      "source": [
        "train_datagen = image.ImageDataGenerator(\n",
        "    rescale = 1/225, horizontal_flip = True, zoom_range = 0.2, shear_range = 0.2\n",
        ")\n",
        "# zoom range less than 1 implies that the image will be zoomed in x% in 0.x \n",
        "# value we assgin, While zooms out if it's greater than 1.0\n",
        "# Shear range is the distortion in a particular axis: augment image\n"
      ],
      "execution_count": null,
      "outputs": []
    },
    {
      "cell_type": "code",
      "metadata": {
        "id": "TqdNIvGgi3gb",
        "colab": {
          "base_uri": "https://localhost:8080/"
        },
        "outputId": "eac97ade-70c9-44c1-bedb-4889b1522afb"
      },
      "source": [
        "train_data = train_datagen.flow_from_directory(directory = \"/content/drive/MyDrive/xray_dataset_covid19/train\", target_size = (256, 256), batch_size = 16, class_mode = \"binary\")"
      ],
      "execution_count": null,
      "outputs": [
        {
          "output_type": "stream",
          "text": [
            "Found 148 images belonging to 2 classes.\n"
          ],
          "name": "stdout"
        }
      ]
    },
    {
      "cell_type": "code",
      "metadata": {
        "colab": {
          "base_uri": "https://localhost:8080/"
        },
        "id": "xEruaGTCfPYf",
        "outputId": "6e0fd37d-ac89-46c8-a207-dd5e02a73a72"
      },
      "source": [
        "train_data.class_indices\n",
        "# Discoving of classes in the folder."
      ],
      "execution_count": null,
      "outputs": [
        {
          "output_type": "execute_result",
          "data": {
            "text/plain": [
              "{'NORMAL': 0, 'PNEUMONIA': 1}"
            ]
          },
          "metadata": {
            "tags": []
          },
          "execution_count": 5
        }
      ]
    },
    {
      "cell_type": "code",
      "metadata": {
        "colab": {
          "base_uri": "https://localhost:8080/"
        },
        "id": "5gz4gymOfuY2",
        "outputId": "2a095ace-a906-47e1-a81f-9255d649157f"
      },
      "source": [
        "test_datagen = image.ImageDataGenerator(\n",
        "    rescale = 1/225\n",
        ")\n",
        "# No agumentation for test set: Cause your testing the data set irrespective of it's \n",
        "# orientation using the model you built.\n",
        "\n",
        "test_data = test_datagen.flow_from_directory(directory = \"/content/drive/MyDrive/xray_dataset_covid19/test\", target_size = (256, 256), batch_size = 16, class_mode = \"binary\")"
      ],
      "execution_count": null,
      "outputs": [
        {
          "output_type": "stream",
          "text": [
            "Found 40 images belonging to 2 classes.\n"
          ],
          "name": "stdout"
        }
      ]
    },
    {
      "cell_type": "code",
      "metadata": {
        "id": "r5XWQdXDfuq6"
      },
      "source": [
        "# CNN Model\n",
        "model = Sequential()\n",
        "\n",
        "model.add(Conv2D(filters = 32, kernel_size = (3,3), activation = 'relu', input_shape = (256, 256, 3)))\n",
        "# Layer -1:\n",
        "model.add(Conv2D(filters = 64, kernel_size = (3,3), activation = 'relu'))\n",
        "model.add(MaxPool2D())\n",
        "model.add(Dropout(rate = 0.25))\n",
        "# Layer -2:\n",
        "model.add(Conv2D(filters = 64, kernel_size = (3,3), activation = 'relu'))\n",
        "model.add(MaxPool2D())\n",
        "model.add(Dropout(rate = 0.25))\n",
        "# Layer -3:\n",
        "model.add(Conv2D(filters = 128, kernel_size = (3,3), activation = 'relu'))\n",
        "model.add(MaxPool2D())\n",
        "model.add(Dropout(rate = 0.25))\n",
        "\n",
        "model.add(Flatten())\n",
        "model.add(Dense(units = 64, activation = 'relu'))\n",
        "model.add(Dropout(rate = 0.50))\n",
        "\n",
        "model.add(Dense(units = 1, activation = 'sigmoid'))\n",
        "\n",
        "model.compile(loss = keras.losses.binary_crossentropy, optimizer = 'adam', metrics = ['acc'])\n",
        "\n"
      ],
      "execution_count": null,
      "outputs": []
    },
    {
      "cell_type": "code",
      "metadata": {
        "colab": {
          "base_uri": "https://localhost:8080/"
        },
        "id": "922CcZs-fuzu",
        "outputId": "d1a2c82c-f8bf-4213-8187-22ab1324da6c"
      },
      "source": [
        "model.summary()"
      ],
      "execution_count": null,
      "outputs": [
        {
          "output_type": "stream",
          "text": [
            "Model: \"sequential\"\n",
            "_________________________________________________________________\n",
            "Layer (type)                 Output Shape              Param #   \n",
            "=================================================================\n",
            "conv2d (Conv2D)              (None, 254, 254, 32)      896       \n",
            "_________________________________________________________________\n",
            "conv2d_1 (Conv2D)            (None, 252, 252, 64)      18496     \n",
            "_________________________________________________________________\n",
            "max_pooling2d (MaxPooling2D) (None, 126, 126, 64)      0         \n",
            "_________________________________________________________________\n",
            "dropout (Dropout)            (None, 126, 126, 64)      0         \n",
            "_________________________________________________________________\n",
            "conv2d_2 (Conv2D)            (None, 124, 124, 64)      36928     \n",
            "_________________________________________________________________\n",
            "max_pooling2d_1 (MaxPooling2 (None, 62, 62, 64)        0         \n",
            "_________________________________________________________________\n",
            "dropout_1 (Dropout)          (None, 62, 62, 64)        0         \n",
            "_________________________________________________________________\n",
            "conv2d_3 (Conv2D)            (None, 60, 60, 128)       73856     \n",
            "_________________________________________________________________\n",
            "max_pooling2d_2 (MaxPooling2 (None, 30, 30, 128)       0         \n",
            "_________________________________________________________________\n",
            "dropout_2 (Dropout)          (None, 30, 30, 128)       0         \n",
            "_________________________________________________________________\n",
            "flatten (Flatten)            (None, 115200)            0         \n",
            "_________________________________________________________________\n",
            "dense (Dense)                (None, 64)                7372864   \n",
            "_________________________________________________________________\n",
            "dropout_3 (Dropout)          (None, 64)                0         \n",
            "_________________________________________________________________\n",
            "dense_1 (Dense)              (None, 1)                 65        \n",
            "=================================================================\n",
            "Total params: 7,503,105\n",
            "Trainable params: 7,503,105\n",
            "Non-trainable params: 0\n",
            "_________________________________________________________________\n"
          ],
          "name": "stdout"
        }
      ]
    },
    {
      "cell_type": "code",
      "metadata": {
        "colab": {
          "base_uri": "https://localhost:8080/"
        },
        "id": "HswPUIDQClrd",
        "outputId": "a708edea-0564-423e-c075-4f8cc70232b0"
      },
      "source": [
        "cnn = model.fit_generator(train_data, steps_per_epoch = 8, epochs = 15, validation_steps = 2, \n",
        "                          validation_data = test_data\n",
        "                          )"
      ],
      "execution_count": null,
      "outputs": [
        {
          "output_type": "stream",
          "text": [
            "/usr/local/lib/python3.7/dist-packages/keras/engine/training.py:1915: UserWarning: `Model.fit_generator` is deprecated and will be removed in a future version. Please use `Model.fit`, which supports generators.\n",
            "  warnings.warn('`Model.fit_generator` is deprecated and '\n"
          ],
          "name": "stderr"
        },
        {
          "output_type": "stream",
          "text": [
            "Epoch 1/15\n",
            "8/8 [==============================] - 68s 7s/step - loss: 4.6969 - acc: 0.5623 - val_loss: 0.6708 - val_acc: 0.5312\n",
            "Epoch 2/15\n",
            "8/8 [==============================] - 47s 6s/step - loss: 0.6628 - acc: 0.5658 - val_loss: 0.6424 - val_acc: 0.6875\n",
            "Epoch 3/15\n",
            "8/8 [==============================] - 46s 6s/step - loss: 0.5881 - acc: 0.7071 - val_loss: 0.5112 - val_acc: 1.0000\n",
            "Epoch 4/15\n",
            "8/8 [==============================] - 46s 6s/step - loss: 0.5396 - acc: 0.7128 - val_loss: 0.5986 - val_acc: 0.9688\n",
            "Epoch 5/15\n",
            "8/8 [==============================] - 46s 6s/step - loss: 0.5246 - acc: 0.8258 - val_loss: 0.4141 - val_acc: 0.9062\n",
            "Epoch 6/15\n",
            "8/8 [==============================] - 46s 6s/step - loss: 0.4938 - acc: 0.7449 - val_loss: 0.3825 - val_acc: 0.9375\n",
            "Epoch 7/15\n",
            "8/8 [==============================] - 46s 6s/step - loss: 0.3606 - acc: 0.8430 - val_loss: 0.3769 - val_acc: 1.0000\n",
            "Epoch 8/15\n",
            "8/8 [==============================] - 46s 6s/step - loss: 0.3731 - acc: 0.8478 - val_loss: 0.2733 - val_acc: 0.9688\n",
            "Epoch 9/15\n",
            "8/8 [==============================] - 46s 6s/step - loss: 0.4008 - acc: 0.8406 - val_loss: 0.4795 - val_acc: 0.9062\n",
            "Epoch 10/15\n",
            "8/8 [==============================] - 46s 6s/step - loss: 0.4086 - acc: 0.8145 - val_loss: 0.3323 - val_acc: 0.9688\n",
            "Epoch 11/15\n",
            "8/8 [==============================] - 47s 6s/step - loss: 0.3774 - acc: 0.8261 - val_loss: 0.3004 - val_acc: 0.9375\n",
            "Epoch 12/15\n",
            "8/8 [==============================] - 47s 6s/step - loss: 0.3927 - acc: 0.8420 - val_loss: 0.1782 - val_acc: 1.0000\n",
            "Epoch 13/15\n",
            "8/8 [==============================] - 46s 6s/step - loss: 0.2988 - acc: 0.9285 - val_loss: 0.3077 - val_acc: 0.9688\n",
            "Epoch 14/15\n",
            "8/8 [==============================] - 46s 6s/step - loss: 0.3288 - acc: 0.8746 - val_loss: 0.1886 - val_acc: 0.9688\n",
            "Epoch 15/15\n",
            "8/8 [==============================] - 47s 6s/step - loss: 0.2795 - acc: 0.9040 - val_loss: 0.1564 - val_acc: 0.9688\n"
          ],
          "name": "stdout"
        }
      ]
    },
    {
      "cell_type": "code",
      "metadata": {
        "colab": {
          "base_uri": "https://localhost:8080/"
        },
        "id": "jqr10wNGzZPs",
        "outputId": "5608947d-c4fc-4802-b3ec-05c9a997dd49"
      },
      "source": [
        "h = cnn.history\n",
        "h.keys()"
      ],
      "execution_count": null,
      "outputs": [
        {
          "output_type": "execute_result",
          "data": {
            "text/plain": [
              "dict_keys(['loss', 'acc', 'val_loss', 'val_acc'])"
            ]
          },
          "metadata": {
            "tags": []
          },
          "execution_count": 44
        }
      ]
    },
    {
      "cell_type": "code",
      "metadata": {
        "colab": {
          "base_uri": "https://localhost:8080/",
          "height": 295
        },
        "id": "fUfUbCFTjw4q",
        "outputId": "44e8aef8-2ec8-469b-dd21-f8d588c9d4ef"
      },
      "source": [
        "\n",
        "losstrain = cnn.history['loss']\n",
        "lossval = cnn.history['val_loss']\n",
        "epochs = range(1,16)\n",
        "plt.plot(epochs, losstrain, \"g\", label = 'Training Loss Graph vs Iterations') \n",
        "plt.plot(epochs, lossval, \"r\", label = 'Validation Loss Graph vs Iterations')\n",
        "plt.title('Training and validation Model Result')\n",
        "plt.xlabel('ITERATIONS')\n",
        "plt.ylabel('LOSS')\n",
        "plt.legend()\n",
        "plt.show()"
      ],
      "execution_count": null,
      "outputs": [
        {
          "output_type": "display_data",
          "data": {
            "image/png": "[encoded data removed]",
            "text/plain": [
              "<Figure size 432x288 with 1 Axes>"
            ]
          },
          "metadata": {
            "tags": [],
            "needs_background": "light"
          }
        }
      ]
    },
    {
      "cell_type": "code",
      "metadata": {
        "id": "L0Ba7nYmjwra"
      },
      "source": [
        "#!unzip \"\""
      ],
      "execution_count": null,
      "outputs": []
    },
    {
      "cell_type": "code",
      "metadata": {
        "id": "DiDVg7wtjww8",
        "colab": {
          "base_uri": "https://localhost:8080/"
        },
        "outputId": "d70c1433-a7bf-4d03-d3fe-cf8c22128011"
      },
      "source": [
        "path = \"/content/drive/MyDrive/predict pics/Normal-31.png\"\n",
        "# Load path of image (X-ray u want to predict)\n",
        "img = image.load_img(path, target_size = (256, 256))\n",
        "\n",
        "img = image.img_to_array(img)/255\n",
        "img = np.array([img])\n",
        "img.shape"
      ],
      "execution_count": null,
      "outputs": [
        {
          "output_type": "execute_result",
          "data": {
            "text/plain": [
              "(1, 256, 256, 3)"
            ]
          },
          "metadata": {
            "tags": []
          },
          "execution_count": 13
        }
      ]
    },
    {
      "cell_type": "code",
      "metadata": {
        "id": "dBK3TF5cjw0o",
        "colab": {
          "base_uri": "https://localhost:8080/"
        },
        "outputId": "e8c2e294-321f-44ab-ce77-e29c92f2e117"
      },
      "source": [
        "# Prediction gives 0 - Normal, 1 - Corona\n",
        "model.predict_classes(img)"
      ],
      "execution_count": null,
      "outputs": [
        {
          "output_type": "stream",
          "text": [
            "/usr/local/lib/python3.7/dist-packages/keras/engine/sequential.py:450: UserWarning: `model.predict_classes()` is deprecated and will be removed after 2021-01-01. Please use instead:* `np.argmax(model.predict(x), axis=-1)`,   if your model does multi-class classification   (e.g. if it uses a `softmax` last-layer activation).* `(model.predict(x) > 0.5).astype(\"int32\")`,   if your model does binary classification   (e.g. if it uses a `sigmoid` last-layer activation).\n",
            "  warnings.warn('`model.predict_classes()` is deprecated and '\n"
          ],
          "name": "stderr"
        },
        {
          "output_type": "execute_result",
          "data": {
            "text/plain": [
              "array([[1]], dtype=int32)"
            ]
          },
          "metadata": {
            "tags": []
          },
          "execution_count": 14
        }
      ]
    },
    {
      "cell_type": "code",
      "metadata": {
        "id": "lF7Chuo9jw8v"
      },
      "source": [
        "# Must increase epoch to 100 - 1000 to get better results, It works for few sample pics fails for few Non - Covid cases."
      ],
      "execution_count": null,
      "outputs": []
    }
  ]
}